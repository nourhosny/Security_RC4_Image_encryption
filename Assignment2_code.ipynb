{
 "cells": [
  {
   "cell_type": "code",
   "execution_count": 107,
   "metadata": {},
   "outputs": [],
   "source": [
    "from PIL import Image\n",
    "import numpy as np\n",
    "import os"
   ]
  },
  {
   "cell_type": "code",
   "execution_count": 108,
   "metadata": {},
   "outputs": [],
   "source": [
    "def initialize_s_box(key):\n",
    "    s_box = list(range(256))\n",
    "    j = 0\n",
    "    key_length = len(key)\n",
    "\n",
    "    for i in range(256):\n",
    "        j = (j + s_box[i] + key[i % key_length]) % 256\n",
    "        s_box[i], s_box[j] = s_box[j], s_box[i]\n",
    "\n",
    "    return s_box"
   ]
  },
  {
   "cell_type": "code",
   "execution_count": 109,
   "metadata": {},
   "outputs": [],
   "source": [
    "def rc4_encrypt(data, key):\n",
    "    if not key:\n",
    "        raise ValueError(\"Key must have a length greater than zero\")\n",
    "\n",
    "    s_box = initialize_s_box(key)\n",
    "    i = j = 0\n",
    "    result = bytearray()\n",
    "\n",
    "    for byte in data:\n",
    "        i = (i + 1) % 256\n",
    "        j = (j + s_box[i]) % 256\n",
    "        s_box[i], s_box[j] = s_box[j], s_box[i]\n",
    "        result.append(byte ^ s_box[(s_box[i] + s_box[j]) % 256])\n",
    "\n",
    "    return bytes(result)\n"
   ]
  },
  {
   "cell_type": "code",
   "execution_count": 110,
   "metadata": {},
   "outputs": [],
   "source": [
    "def encrypt_image(input_path, output_path, key):\n",
    "    with open(input_path, 'rb') as file:\n",
    "        image_data = bytearray(file.read())\n",
    "\n",
    "    encrypted_data = rc4_encrypt(image_data, key)\n",
    "\n",
    "    # Determine the dimensions of the original image\n",
    "    image = Image.open(io.BytesIO(image_data))\n",
    "    width, height = image.size\n",
    "\n",
    "    # Convert the encrypted data to a NumPy array and create a grayscale image\n",
    "    encrypted_image = Image.fromarray(np.frombuffer(encrypted_data, dtype=np.uint8), 'L')\n",
    "    encrypted_image = encrypted_image.resize((width, height))\n",
    "    encrypted_image.save(output_path)"
   ]
  },
  {
   "cell_type": "code",
   "execution_count": 115,
   "metadata": {},
   "outputs": [],
   "source": [
    "def decrypt_image(input_path, output_path, key):\n",
    "    with open(input_path, 'rb') as file:\n",
    "        encrypted_data = bytearray(file.read())\n",
    "\n",
    "    decrypted_data = rc4_encrypt(encrypted_data, key)\n",
    "\n",
    "    # Save the decrypted data directly to the output file\n",
    "    with open(output_path, 'wb') as file:\n",
    "        file.write(decrypted_data)\n"
   ]
  },
  {
   "cell_type": "code",
   "execution_count": 116,
   "metadata": {},
   "outputs": [],
   "source": [
    "# #MySecureEncryption\n",
    "\n",
    "\n",
    "# # Paths for input and output images\n",
    "# input_image_path = 'C:/Users/hp/Desktop/Semester 10/(NETW1002) Systems and Network Security/Assignment 2/assignement2_encimage.jpg'\n",
    "# encrypted_image_path = 'C:/Users/hp/Desktop/Semester 10/(NETW1002) Systems and Network Security/Assignment 2/encrypted_image.jpg'\n",
    "# decrypted_image_path = 'C:/Users/hp/Desktop/Semester 10/(NETW1002) Systems and Network Security/Assignment 2/decrypted_image.jpg'"
   ]
  },
  {
   "cell_type": "code",
   "execution_count": 117,
   "metadata": {},
   "outputs": [
    {
     "name": "stdout",
     "output_type": "stream",
     "text": [
      "Encryption and decryption completed. Check the images.\n"
     ]
    }
   ],
   "source": [
    "# Get 16 ASCII characters as the key\n",
    "key = input(\"Enter a 16-character ASCII key: \").encode('utf-8')\n",
    "\n",
    "\n",
    "# Paths for input and output images\n",
    "input_image_path = 'C:/Users/hp/Desktop/Semester 10/(NETW1002) Systems and Network Security/Assignment 2/assignement2_encimage.jpg'\n",
    "encrypted_image_path = 'C:/Users/hp/Desktop/Semester 10/(NETW1002) Systems and Network Security/Assignment 2/encrypted_image.jpg'\n",
    "decrypted_image_path = 'C:/Users/hp/Desktop/Semester 10/(NETW1002) Systems and Network Security/Assignment 2/decrypted_image.jpg'\n",
    "# Determine the dimensions of the original image\n",
    "with open(input_image_path, 'rb') as file:\n",
    "    image_data = bytearray(file.read())\n",
    "original_image = Image.open(io.BytesIO(image_data))\n",
    "original_size = original_image.size\n",
    "\n",
    "# Encrypt the image\n",
    "encrypt_image(input_image_path, encrypted_image_path, key)\n",
    "\n",
    "# Decrypt the image\n",
    "decrypt_image(encrypted_image_path, decrypted_image_path, key)\n",
    "\n",
    "# Check the images manually or programmatically\n",
    "print(\"Encryption and decryption completed. Check the images.\")"
   ]
  },
  {
   "cell_type": "code",
   "execution_count": null,
   "metadata": {},
   "outputs": [],
   "source": []
  },
  {
   "cell_type": "code",
   "execution_count": null,
   "metadata": {},
   "outputs": [],
   "source": []
  }
 ],
 "metadata": {
  "kernelspec": {
   "display_name": "machine_learning",
   "language": "python",
   "name": "python3"
  },
  "language_info": {
   "codemirror_mode": {
    "name": "ipython",
    "version": 3
   },
   "file_extension": ".py",
   "mimetype": "text/x-python",
   "name": "python",
   "nbconvert_exporter": "python",
   "pygments_lexer": "ipython3",
   "version": "3.9.18"
  }
 },
 "nbformat": 4,
 "nbformat_minor": 2
}
