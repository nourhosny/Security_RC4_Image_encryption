{
 "cells": [
  {
   "cell_type": "code",
   "execution_count": 38,
   "metadata": {},
   "outputs": [],
   "source": [
    "from PIL import Image\n",
    "import numpy as np\n",
    "import os"
   ]
  },
  {
   "cell_type": "code",
   "execution_count": 40,
   "metadata": {},
   "outputs": [],
   "source": [
    "def rc4(key, data):\n",
    "    # Key-scheduling algorithm (KSA)\n",
    "    S = list(range(256))\n",
    "    j = 0\n",
    "    for i in range(256):\n",
    "        j = (j + S[i] + key[i % len(key)]) % 256\n",
    "        S[i], S[j] = S[j], S[i]\n",
    "\n",
    "    # Pseudo-random generation algorithm (PRGA)\n",
    "    i = j = 0\n",
    "    result = bytearray()\n",
    "    for byte in data:\n",
    "        i = (i + 1) % 256\n",
    "        j = (j + S[i]) % 256\n",
    "        S[i], S[j] = S[j], S[i]\n",
    "        result.append(byte ^ S[(S[i] + S[j]) % 256])\n",
    "    return bytes(result)"
   ]
  },
  {
   "cell_type": "code",
   "execution_count": 41,
   "metadata": {},
   "outputs": [],
   "source": [
    "def read_key():\n",
    "    key = input(\"Enter a 16-character ASCII key: \")\n",
    "    if len(key) != 16:\n",
    "        print(\"Key must be exactly 16 characters long.\")\n",
    "        return None\n",
    "    return key.encode('ascii')"
   ]
  },
  {
   "cell_type": "code",
   "execution_count": 42,
   "metadata": {},
   "outputs": [],
   "source": [
    "def encrypt_image(input_path, output_path, key):\n",
    "    with open(input_path, 'rb') as file:\n",
    "        image = Image.open(file)\n",
    "        image_data=bytearray(image.tobytes())\n",
    "\n",
    "    encrypted_data = rc4(key, image_data)\n",
    "\n",
    "    # Determine the dimensions of the original image\n",
    "    #image = Image.open(io.BytesIO(image_data))\n",
    "    #width, height = image.size\n",
    "\n",
    "    # Convert the encrypted data to a NumPy array and create a grayscale image\n",
    "    encrypted_image = Image.frombytes(image.mode,image.size,bytes(encrypted_data))\n",
    "    #encrypted_image = encrypted_image.resize((width, height))\n",
    "    encrypted_image.save(output_path)"
   ]
  },
  {
   "cell_type": "code",
   "execution_count": 43,
   "metadata": {},
   "outputs": [],
   "source": [
    "def decrypt_image(input_path, output_path, key):\n",
    "    with open(input_path, 'rb') as file:\n",
    "        image = Image.open(file)\n",
    "        image_data=bytearray(image.tobytes())\n",
    "        \n",
    "    decrypted_data = rc4(key, image_data)\n",
    "\n",
    "# Convert the encrypted data to a NumPy array and create a grayscale image\n",
    "    decrypted_image = Image.frombytes(image.mode,image.size,bytes(decrypted_data))\n",
    "    #encrypted_image = encrypted_image.resize((width, height))\n",
    "    decrypted_image.save(output_path)"
   ]
  },
  {
   "cell_type": "code",
   "execution_count": 44,
   "metadata": {},
   "outputs": [
    {
     "name": "stdout",
     "output_type": "stream",
     "text": [
      "Enter a 16-character ASCII key: abcdefghijklmnop\n",
      "Image encrypted successfully.\n",
      "Image decrypted successfully.\n"
     ]
    }
   ],
   "source": [
    "if __name__ == \"__main__\":\n",
    "    key = read_key()\n",
    "    if key:\n",
    "        input_image = 'C:/Users/Darin/Downloads/Security_Photo.png'\n",
    "        encrypted_image = 'C:/Users/Darin/Downloads/Encr_photo.png'\n",
    "        decrypted_image = 'C:/Users/Darin/Downloads/Decr_photo.png'\n",
    "\n",
    "        # Encrypt the image\n",
    "        encrypt_image(input_image, encrypted_image, key)\n",
    "        print(\"Image encrypted successfully.\")\n",
    "\n",
    "        # Decrypt the encrypted image\n",
    "        decrypt_image(encrypted_image, decrypted_image, key)\n",
    "        print(\"Image decrypted successfully.\")"
   ]
  },
  {
   "cell_type": "code",
   "execution_count": null,
   "metadata": {},
   "outputs": [],
   "source": []
  },
  {
   "cell_type": "code",
   "execution_count": null,
   "metadata": {},
   "outputs": [],
   "source": []
  }
 ],
 "metadata": {
  "kernelspec": {
   "display_name": "Python 3 (ipykernel)",
   "language": "python",
   "name": "python3"
  },
  "language_info": {
   "codemirror_mode": {
    "name": "ipython",
    "version": 3
   },
   "file_extension": ".py",
   "mimetype": "text/x-python",
   "name": "python",
   "nbconvert_exporter": "python",
   "pygments_lexer": "ipython3",
   "version": "3.9.7"
  }
 },
 "nbformat": 4,
 "nbformat_minor": 2
}
